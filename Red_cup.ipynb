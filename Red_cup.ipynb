{
    "cells": [
        {
            "metadata": {},
            "cell_type": "code",
            "source": "from random import randint\nfrom random import shuffle",
            "execution_count": 1,
            "outputs": []
        },
        {
            "metadata": {},
            "cell_type": "markdown",
            "source": "# Pick the right cup"
        },
        {
            "metadata": {},
            "cell_type": "code",
            "source": "#Make the list \n\na = ['','O','']\n\n#shuffle the list and place it in a function to be called\n\ndef shuffle_list():\n    shuffle(a)\n    return a",
            "execution_count": 2,
            "outputs": []
        },
        {
            "metadata": {},
            "cell_type": "code",
            "source": "# Write a function to choose the cup\n\ndef choose_cup():\n    \n    p = int(input('choose the right cup: '))\n    \n    if p > 2:\n        print('Value cannot be more than 2')\n        p = int(input('choose the right cups: '))\n        \n    return p",
            "execution_count": 3,
            "outputs": []
        },
        {
            "metadata": {},
            "cell_type": "code",
            "source": "def is_itright(l,c):\n    \n    if l[c] == 'O':\n        print(f'This is correct. \"O\" belongs to index {c}')\n        print (l)\n    else:\n        print (f'This is incorrect. Index {c} has been selected.\"O\" belongs in the following index:' )\n        print (l)",
            "execution_count": 4,
            "outputs": []
        },
        {
            "metadata": {},
            "cell_type": "markdown",
            "source": "### Bringing all the functions together. \n\n1. Shuffle function\n2. Picking the cup function\n3. Checking the accuracy of the pick.\n"
        },
        {
            "metadata": {},
            "cell_type": "code",
            "source": "def game():\n    \n    shuffle_list()\n    l = shuffle_list()\n    \n    c = choose_cup()\n    \n    is_itright(l,c)",
            "execution_count": 5,
            "outputs": []
        },
        {
            "metadata": {},
            "cell_type": "code",
            "source": "game()",
            "execution_count": 6,
            "outputs": [
                {
                    "output_type": "stream",
                    "name": "stdout",
                    "text": "choose the right cup: 2\nThis is incorrect. Index 2 has been selected.\"O\" belongs in the following index:\n['', 'O', '']\n"
                }
            ]
        },
        {
            "metadata": {},
            "cell_type": "code",
            "source": "",
            "execution_count": null,
            "outputs": []
        }
    ],
    "metadata": {
        "kernelspec": {
            "name": "python3",
            "display_name": "Python 3.6",
            "language": "python"
        },
        "language_info": {
            "name": "python",
            "version": "3.6.9",
            "mimetype": "text/x-python",
            "codemirror_mode": {
                "name": "ipython",
                "version": 3
            },
            "pygments_lexer": "ipython3",
            "nbconvert_exporter": "python",
            "file_extension": ".py"
        }
    },
    "nbformat": 4,
    "nbformat_minor": 4
}