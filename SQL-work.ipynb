{
    "cells": [
        {
            "metadata": {},
            "cell_type": "markdown",
            "source": "## Installing ipython-sql to be able to connect to a database and use SQL commands in the python notebook"
        },
        {
            "metadata": {},
            "cell_type": "code",
            "source": "!pip install ipython-sql",
            "execution_count": 2,
            "outputs": [
                {
                    "output_type": "stream",
                    "text": "Collecting ipython-sql\n  Downloading https://files.pythonhosted.org/packages/ab/3d/0d38357c620df31cebb056ca1804027112e5c008f4c2c0e16d879996ad9f/ipython_sql-0.4.0-py3-none-any.whl\nRequirement already satisfied: ipython-genutils>=0.1.0 in /opt/conda/envs/Python36/lib/python3.6/site-packages (from ipython-sql) (0.2.0)\nRequirement already satisfied: sqlalchemy>=0.6.7 in /opt/conda/envs/Python36/lib/python3.6/site-packages (from ipython-sql) (1.2.18)\nCollecting prettytable<1 (from ipython-sql)\n  Downloading https://files.pythonhosted.org/packages/ef/30/4b0746848746ed5941f052479e7c23d2b56d174b82f4fd34a25e389831f5/prettytable-0.7.2.tar.bz2\nRequirement already satisfied: ipython>=1.0 in /opt/conda/envs/Python36/lib/python3.6/site-packages (from ipython-sql) (7.2.0)\nCollecting sqlparse (from ipython-sql)\n\u001b[?25l  Downloading https://files.pythonhosted.org/packages/85/ee/6e821932f413a5c4b76be9c5936e313e4fc626b33f16e027866e1d60f588/sqlparse-0.3.1-py2.py3-none-any.whl (40kB)\n\u001b[K     |\u2588\u2588\u2588\u2588\u2588\u2588\u2588\u2588\u2588\u2588\u2588\u2588\u2588\u2588\u2588\u2588\u2588\u2588\u2588\u2588\u2588\u2588\u2588\u2588\u2588\u2588\u2588\u2588\u2588\u2588\u2588\u2588| 40kB 10.7MB/s eta 0:00:01\n\u001b[?25hRequirement already satisfied: six in /opt/conda/envs/Python36/lib/python3.6/site-packages (from ipython-sql) (1.12.0)\nRequirement already satisfied: decorator in /opt/conda/envs/Python36/lib/python3.6/site-packages (from ipython>=1.0->ipython-sql) (4.3.2)\nRequirement already satisfied: jedi>=0.10 in /opt/conda/envs/Python36/lib/python3.6/site-packages (from ipython>=1.0->ipython-sql) (0.13.2)\nRequirement already satisfied: traitlets>=4.2 in /opt/conda/envs/Python36/lib/python3.6/site-packages (from ipython>=1.0->ipython-sql) (4.3.2)\nRequirement already satisfied: pygments in /opt/conda/envs/Python36/lib/python3.6/site-packages (from ipython>=1.0->ipython-sql) (2.3.1)\nRequirement already satisfied: pexpect; sys_platform != \"win32\" in /opt/conda/envs/Python36/lib/python3.6/site-packages (from ipython>=1.0->ipython-sql) (4.6.0)\nRequirement already satisfied: prompt-toolkit<2.1.0,>=2.0.0 in /opt/conda/envs/Python36/lib/python3.6/site-packages (from ipython>=1.0->ipython-sql) (2.0.8)\nRequirement already satisfied: setuptools>=18.5 in /opt/conda/envs/Python36/lib/python3.6/site-packages (from ipython>=1.0->ipython-sql) (40.8.0)\nRequirement already satisfied: backcall in /opt/conda/envs/Python36/lib/python3.6/site-packages (from ipython>=1.0->ipython-sql) (0.1.0)\nRequirement already satisfied: pickleshare in /opt/conda/envs/Python36/lib/python3.6/site-packages (from ipython>=1.0->ipython-sql) (0.7.5)\nRequirement already satisfied: parso>=0.3.0 in /opt/conda/envs/Python36/lib/python3.6/site-packages (from jedi>=0.10->ipython>=1.0->ipython-sql) (0.3.2)\nRequirement already satisfied: ptyprocess>=0.5 in /opt/conda/envs/Python36/lib/python3.6/site-packages (from pexpect; sys_platform != \"win32\"->ipython>=1.0->ipython-sql) (0.6.0)\nRequirement already satisfied: wcwidth in /opt/conda/envs/Python36/lib/python3.6/site-packages (from prompt-toolkit<2.1.0,>=2.0.0->ipython>=1.0->ipython-sql) (0.1.7)\nBuilding wheels for collected packages: prettytable\n  Building wheel for prettytable (setup.py) ... \u001b[?25ldone\n\u001b[?25h  Stored in directory: /home/dsxuser/.cache/pip/wheels/80/34/1c/3967380d9676d162cb59513bd9dc862d0584e045a162095606\nSuccessfully built prettytable\nInstalling collected packages: prettytable, sqlparse, ipython-sql\nSuccessfully installed ipython-sql-0.4.0 prettytable-0.7.2 sqlparse-0.3.1\n",
                    "name": "stdout"
                }
            ]
        },
        {
            "metadata": {},
            "cell_type": "code",
            "source": "%load_ext sql",
            "execution_count": 3,
            "outputs": []
        },
        {
            "metadata": {},
            "cell_type": "markdown",
            "source": "## Installing and importing ibm_db_sa adapter which allows connecting to a database stored in IBM's cloud environment. "
        },
        {
            "metadata": {},
            "cell_type": "code",
            "source": "!pip install ibm_db_sa",
            "execution_count": 4,
            "outputs": [
                {
                    "output_type": "stream",
                    "text": "Requirement already satisfied: ibm_db_sa in /opt/conda/envs/Python36/lib/python3.6/site-packages (0.3.4)\nRequirement already satisfied: ibm-db>=2.0.0 in /opt/conda/envs/Python36/lib/python3.6/site-packages (from ibm_db_sa) (2.0.9)\nRequirement already satisfied: sqlalchemy>=0.7.3 in /opt/conda/envs/Python36/lib/python3.6/site-packages (from ibm_db_sa) (1.2.18)\n",
                    "name": "stdout"
                }
            ]
        },
        {
            "metadata": {},
            "cell_type": "code",
            "source": "import ibm_db_sa",
            "execution_count": 5,
            "outputs": []
        },
        {
            "metadata": {},
            "cell_type": "markdown",
            "source": "## Connecting to a database on IBM cloud."
        },
        {
            "metadata": {},
            "cell_type": "code",
            "source": "%sql ibm_db_sa://rcz59621:sh-3wxsdgcvtch1p@dashdb-txn-sbox-yp-dal09-14.services.dal.bluemix.net:50000/BLUDB",
            "execution_count": 6,
            "outputs": []
        },
        {
            "metadata": {},
            "cell_type": "markdown",
            "source": "## The database schema named rcz59621 consists of multiple tables. For now, we will consider 4 tables:\n\n1. Employees\n2. Jobs\n3. Job_history\n4. Departments"
        },
        {
            "metadata": {},
            "cell_type": "markdown",
            "source": "<H3> Using the Employees table </H3>"
        },
        {
            "metadata": {},
            "cell_type": "code",
            "source": "data = %sql SELECT * FROM employees ",
            "execution_count": 6,
            "outputs": [
                {
                    "output_type": "stream",
                    "text": " * ibm_db_sa://rcz59621:***@dashdb-txn-sbox-yp-dal09-14.services.dal.bluemix.net:50000/BLUDB\nDone.\n",
                    "name": "stdout"
                }
            ]
        },
        {
            "metadata": {},
            "cell_type": "code",
            "source": "data",
            "execution_count": 7,
            "outputs": [
                {
                    "output_type": "execute_result",
                    "execution_count": 7,
                    "data": {
                        "text/plain": "[('E1001    ', 'John', 'Thomas', '123456   ', datetime.date(1976, 1, 9), 'M', '5631 Rice, OakPark,IL', '100      ', Decimal('100000.00'), '30001    ', '2        '),\n ('E1002    ', 'Alice', 'James', '123457   ', datetime.date(1972, 7, 31), 'F', '980 Berry ln, Elgin,IL', '200      ', Decimal('80000.00'), '30002    ', '5        '),\n ('E1003    ', 'Steve', 'Wells', '123458   ', datetime.date(1980, 8, 10), 'M', '291 Springs, Gary,IL', '300      ', Decimal('50000.00'), '30002    ', '5        '),\n ('E1004    ', 'Santosh', 'Kumar', '123459   ', datetime.date(1985, 7, 20), 'M', '511 Aurora Av, Aurora,IL', '400      ', Decimal('60000.00'), '30004    ', '5        '),\n ('E1005    ', 'Ahmed', 'Hussain', '123410   ', datetime.date(1981, 1, 4), 'M', '216 Oak Tree, Geneva,IL', '500      ', Decimal('70000.00'), '30001    ', '2        '),\n ('E1006    ', 'Nancy', 'Allen', '123411   ', datetime.date(1978, 2, 6), 'F', '111 Green Pl, Elgin,IL', '600      ', Decimal('90000.00'), '30001    ', '2        '),\n ('E1007    ', 'Mary', 'Thomas', '123412   ', datetime.date(1975, 5, 5), 'F', '100 Rose Pl, Gary,IL', '650      ', Decimal('65000.00'), '30003    ', '7        '),\n ('E1008    ', 'Bharath', 'Gupta', '123413   ', datetime.date(1985, 5, 6), 'M', '145 Berry Ln, Naperville,IL', '660      ', Decimal('65000.00'), '30003    ', '7        '),\n ('E1009    ', 'Andrea', 'Jones', '123414   ', datetime.date(1990, 7, 9), 'F', '120 Fall Creek, Gary,IL', '234      ', Decimal('70000.00'), '30003    ', '7        '),\n ('E1010    ', 'Ann', 'Jacob', '123415   ', datetime.date(1982, 3, 30), 'F', '111 Britany Springs,Elgin,IL', '220      ', Decimal('70000.00'), '30004    ', '5        ')]",
                        "text/html": "<table>\n    <tr>\n        <th>emp_id</th>\n        <th>f_name</th>\n        <th>l_name</th>\n        <th>ssn</th>\n        <th>b_date</th>\n        <th>sex</th>\n        <th>address</th>\n        <th>job_id</th>\n        <th>salary</th>\n        <th>manager_id</th>\n        <th>dep_id</th>\n    </tr>\n    <tr>\n        <td>E1001    </td>\n        <td>John</td>\n        <td>Thomas</td>\n        <td>123456   </td>\n        <td>1976-01-09</td>\n        <td>M</td>\n        <td>5631 Rice, OakPark,IL</td>\n        <td>100      </td>\n        <td>100000.00</td>\n        <td>30001    </td>\n        <td>2        </td>\n    </tr>\n    <tr>\n        <td>E1002    </td>\n        <td>Alice</td>\n        <td>James</td>\n        <td>123457   </td>\n        <td>1972-07-31</td>\n        <td>F</td>\n        <td>980 Berry ln, Elgin,IL</td>\n        <td>200      </td>\n        <td>80000.00</td>\n        <td>30002    </td>\n        <td>5        </td>\n    </tr>\n    <tr>\n        <td>E1003    </td>\n        <td>Steve</td>\n        <td>Wells</td>\n        <td>123458   </td>\n        <td>1980-08-10</td>\n        <td>M</td>\n        <td>291 Springs, Gary,IL</td>\n        <td>300      </td>\n        <td>50000.00</td>\n        <td>30002    </td>\n        <td>5        </td>\n    </tr>\n    <tr>\n        <td>E1004    </td>\n        <td>Santosh</td>\n        <td>Kumar</td>\n        <td>123459   </td>\n        <td>1985-07-20</td>\n        <td>M</td>\n        <td>511 Aurora Av, Aurora,IL</td>\n        <td>400      </td>\n        <td>60000.00</td>\n        <td>30004    </td>\n        <td>5        </td>\n    </tr>\n    <tr>\n        <td>E1005    </td>\n        <td>Ahmed</td>\n        <td>Hussain</td>\n        <td>123410   </td>\n        <td>1981-01-04</td>\n        <td>M</td>\n        <td>216 Oak Tree, Geneva,IL</td>\n        <td>500      </td>\n        <td>70000.00</td>\n        <td>30001    </td>\n        <td>2        </td>\n    </tr>\n    <tr>\n        <td>E1006    </td>\n        <td>Nancy</td>\n        <td>Allen</td>\n        <td>123411   </td>\n        <td>1978-02-06</td>\n        <td>F</td>\n        <td>111 Green Pl, Elgin,IL</td>\n        <td>600      </td>\n        <td>90000.00</td>\n        <td>30001    </td>\n        <td>2        </td>\n    </tr>\n    <tr>\n        <td>E1007    </td>\n        <td>Mary</td>\n        <td>Thomas</td>\n        <td>123412   </td>\n        <td>1975-05-05</td>\n        <td>F</td>\n        <td>100 Rose Pl, Gary,IL</td>\n        <td>650      </td>\n        <td>65000.00</td>\n        <td>30003    </td>\n        <td>7        </td>\n    </tr>\n    <tr>\n        <td>E1008    </td>\n        <td>Bharath</td>\n        <td>Gupta</td>\n        <td>123413   </td>\n        <td>1985-05-06</td>\n        <td>M</td>\n        <td>145 Berry Ln, Naperville,IL</td>\n        <td>660      </td>\n        <td>65000.00</td>\n        <td>30003    </td>\n        <td>7        </td>\n    </tr>\n    <tr>\n        <td>E1009    </td>\n        <td>Andrea</td>\n        <td>Jones</td>\n        <td>123414   </td>\n        <td>1990-07-09</td>\n        <td>F</td>\n        <td>120 Fall Creek, Gary,IL</td>\n        <td>234      </td>\n        <td>70000.00</td>\n        <td>30003    </td>\n        <td>7        </td>\n    </tr>\n    <tr>\n        <td>E1010    </td>\n        <td>Ann</td>\n        <td>Jacob</td>\n        <td>123415   </td>\n        <td>1982-03-30</td>\n        <td>F</td>\n        <td>111 Britany Springs,Elgin,IL</td>\n        <td>220      </td>\n        <td>70000.00</td>\n        <td>30004    </td>\n        <td>5        </td>\n    </tr>\n</table>"
                    },
                    "metadata": {}
                }
            ]
        },
        {
            "metadata": {},
            "cell_type": "markdown",
            "source": "### Which employees have a salary greater than the average salary?"
        },
        {
            "metadata": {},
            "cell_type": "code",
            "source": "%%sql \n\nSELECT *\nFROM employees \nWHERE salary > (SELECT AVG(salary) FROM employees)",
            "execution_count": 8,
            "outputs": [
                {
                    "output_type": "stream",
                    "text": " * ibm_db_sa://rcz59621:***@dashdb-txn-sbox-yp-dal09-14.services.dal.bluemix.net:50000/BLUDB\nDone.\n",
                    "name": "stdout"
                },
                {
                    "output_type": "execute_result",
                    "execution_count": 8,
                    "data": {
                        "text/plain": "[('E1001    ', 'John', 'Thomas', '123456   ', datetime.date(1976, 1, 9), 'M', '5631 Rice, OakPark,IL', '100      ', Decimal('100000.00'), '30001    ', '2        '),\n ('E1002    ', 'Alice', 'James', '123457   ', datetime.date(1972, 7, 31), 'F', '980 Berry ln, Elgin,IL', '200      ', Decimal('80000.00'), '30002    ', '5        '),\n ('E1006    ', 'Nancy', 'Allen', '123411   ', datetime.date(1978, 2, 6), 'F', '111 Green Pl, Elgin,IL', '600      ', Decimal('90000.00'), '30001    ', '2        ')]",
                        "text/html": "<table>\n    <tr>\n        <th>emp_id</th>\n        <th>f_name</th>\n        <th>l_name</th>\n        <th>ssn</th>\n        <th>b_date</th>\n        <th>sex</th>\n        <th>address</th>\n        <th>job_id</th>\n        <th>salary</th>\n        <th>manager_id</th>\n        <th>dep_id</th>\n    </tr>\n    <tr>\n        <td>E1001    </td>\n        <td>John</td>\n        <td>Thomas</td>\n        <td>123456   </td>\n        <td>1976-01-09</td>\n        <td>M</td>\n        <td>5631 Rice, OakPark,IL</td>\n        <td>100      </td>\n        <td>100000.00</td>\n        <td>30001    </td>\n        <td>2        </td>\n    </tr>\n    <tr>\n        <td>E1002    </td>\n        <td>Alice</td>\n        <td>James</td>\n        <td>123457   </td>\n        <td>1972-07-31</td>\n        <td>F</td>\n        <td>980 Berry ln, Elgin,IL</td>\n        <td>200      </td>\n        <td>80000.00</td>\n        <td>30002    </td>\n        <td>5        </td>\n    </tr>\n    <tr>\n        <td>E1006    </td>\n        <td>Nancy</td>\n        <td>Allen</td>\n        <td>123411   </td>\n        <td>1978-02-06</td>\n        <td>F</td>\n        <td>111 Green Pl, Elgin,IL</td>\n        <td>600      </td>\n        <td>90000.00</td>\n        <td>30001    </td>\n        <td>2        </td>\n    </tr>\n</table>"
                    },
                    "metadata": {}
                }
            ]
        },
        {
            "metadata": {},
            "cell_type": "markdown",
            "source": "### What are the first names, date of birth, job id and salary for all employees who were born in the 1970s"
        },
        {
            "metadata": {},
            "cell_type": "code",
            "source": "%%sql \n\nSELECT f_name, b_date, job_id, salary\nFROM employees\nWHERE year(b_date) like ('%197%')",
            "execution_count": 9,
            "outputs": [
                {
                    "output_type": "stream",
                    "text": " * ibm_db_sa://rcz59621:***@dashdb-txn-sbox-yp-dal09-14.services.dal.bluemix.net:50000/BLUDB\nDone.\n",
                    "name": "stdout"
                },
                {
                    "output_type": "execute_result",
                    "execution_count": 9,
                    "data": {
                        "text/plain": "[('John', datetime.date(1976, 1, 9), '100      ', Decimal('100000.00')),\n ('Alice', datetime.date(1972, 7, 31), '200      ', Decimal('80000.00')),\n ('Nancy', datetime.date(1978, 2, 6), '600      ', Decimal('90000.00')),\n ('Mary', datetime.date(1975, 5, 5), '650      ', Decimal('65000.00'))]",
                        "text/html": "<table>\n    <tr>\n        <th>f_name</th>\n        <th>b_date</th>\n        <th>job_id</th>\n        <th>salary</th>\n    </tr>\n    <tr>\n        <td>John</td>\n        <td>1976-01-09</td>\n        <td>100      </td>\n        <td>100000.00</td>\n    </tr>\n    <tr>\n        <td>Alice</td>\n        <td>1972-07-31</td>\n        <td>200      </td>\n        <td>80000.00</td>\n    </tr>\n    <tr>\n        <td>Nancy</td>\n        <td>1978-02-06</td>\n        <td>600      </td>\n        <td>90000.00</td>\n    </tr>\n    <tr>\n        <td>Mary</td>\n        <td>1975-05-05</td>\n        <td>650      </td>\n        <td>65000.00</td>\n    </tr>\n</table>"
                    },
                    "metadata": {}
                }
            ]
        },
        {
            "metadata": {},
            "cell_type": "markdown",
            "source": "### Find the total number of male and female employees in the company?"
        },
        {
            "metadata": {},
            "cell_type": "code",
            "source": "%%sql\n\nSELECT COUNT(*) AS \"Number of employees\", sex\nFROM employees \nGROUP BY sex",
            "execution_count": 10,
            "outputs": [
                {
                    "output_type": "stream",
                    "text": " * ibm_db_sa://rcz59621:***@dashdb-txn-sbox-yp-dal09-14.services.dal.bluemix.net:50000/BLUDB\nDone.\n",
                    "name": "stdout"
                },
                {
                    "output_type": "execute_result",
                    "execution_count": 10,
                    "data": {
                        "text/plain": "[(Decimal('5'), 'F'), (Decimal('5'), 'M')]",
                        "text/html": "<table>\n    <tr>\n        <th>Number of employees</th>\n        <th>sex</th>\n    </tr>\n    <tr>\n        <td>5</td>\n        <td>F</td>\n    </tr>\n    <tr>\n        <td>5</td>\n        <td>M</td>\n    </tr>\n</table>"
                    },
                    "metadata": {}
                }
            ]
        },
        {
            "metadata": {},
            "cell_type": "markdown",
            "source": "### How many workers are managed by a particular manager?"
        },
        {
            "metadata": {},
            "cell_type": "code",
            "source": "%%sql\n\nSELECT COUNT(*) AS \"Number of workers\", manager_id\nFROM employees\nGROUP BY manager_id\nORDER BY \"Number of workers\" desc",
            "execution_count": 11,
            "outputs": [
                {
                    "output_type": "stream",
                    "text": " * ibm_db_sa://rcz59621:***@dashdb-txn-sbox-yp-dal09-14.services.dal.bluemix.net:50000/BLUDB\nDone.\n",
                    "name": "stdout"
                },
                {
                    "output_type": "execute_result",
                    "execution_count": 11,
                    "data": {
                        "text/plain": "[(Decimal('3'), '30001    '),\n (Decimal('3'), '30003    '),\n (Decimal('2'), '30002    '),\n (Decimal('2'), '30004    ')]",
                        "text/html": "<table>\n    <tr>\n        <th>Number of workers</th>\n        <th>manager_id</th>\n    </tr>\n    <tr>\n        <td>3</td>\n        <td>30001    </td>\n    </tr>\n    <tr>\n        <td>3</td>\n        <td>30003    </td>\n    </tr>\n    <tr>\n        <td>2</td>\n        <td>30002    </td>\n    </tr>\n    <tr>\n        <td>2</td>\n        <td>30004    </td>\n    </tr>\n</table>"
                    },
                    "metadata": {}
                }
            ]
        },
        {
            "metadata": {},
            "cell_type": "markdown",
            "source": "## Combining multiple tables to retrieve more intriguing results. Storing all rows from all tables into variables"
        },
        {
            "metadata": {},
            "cell_type": "code",
            "source": "employees = %sql SELECT * FROM employees\ndepartments = %sql SELECT * FROM departments \njobs = %sql SELECT * FROM jobs\njob_history = %sql SELECT * FROM job_history",
            "execution_count": 12,
            "outputs": [
                {
                    "output_type": "stream",
                    "text": " * ibm_db_sa://rcz59621:***@dashdb-txn-sbox-yp-dal09-14.services.dal.bluemix.net:50000/BLUDB\nDone.\n * ibm_db_sa://rcz59621:***@dashdb-txn-sbox-yp-dal09-14.services.dal.bluemix.net:50000/BLUDB\nDone.\n * ibm_db_sa://rcz59621:***@dashdb-txn-sbox-yp-dal09-14.services.dal.bluemix.net:50000/BLUDB\nDone.\n * ibm_db_sa://rcz59621:***@dashdb-txn-sbox-yp-dal09-14.services.dal.bluemix.net:50000/BLUDB\nDone.\n",
                    "name": "stdout"
                }
            ]
        },
        {
            "metadata": {},
            "cell_type": "code",
            "source": "employees",
            "execution_count": 13,
            "outputs": [
                {
                    "output_type": "execute_result",
                    "execution_count": 13,
                    "data": {
                        "text/plain": "[('E1001    ', 'John', 'Thomas', '123456   ', datetime.date(1976, 1, 9), 'M', '5631 Rice, OakPark,IL', '100      ', Decimal('100000.00'), '30001    ', '2        '),\n ('E1002    ', 'Alice', 'James', '123457   ', datetime.date(1972, 7, 31), 'F', '980 Berry ln, Elgin,IL', '200      ', Decimal('80000.00'), '30002    ', '5        '),\n ('E1003    ', 'Steve', 'Wells', '123458   ', datetime.date(1980, 8, 10), 'M', '291 Springs, Gary,IL', '300      ', Decimal('50000.00'), '30002    ', '5        '),\n ('E1004    ', 'Santosh', 'Kumar', '123459   ', datetime.date(1985, 7, 20), 'M', '511 Aurora Av, Aurora,IL', '400      ', Decimal('60000.00'), '30004    ', '5        '),\n ('E1005    ', 'Ahmed', 'Hussain', '123410   ', datetime.date(1981, 1, 4), 'M', '216 Oak Tree, Geneva,IL', '500      ', Decimal('70000.00'), '30001    ', '2        '),\n ('E1006    ', 'Nancy', 'Allen', '123411   ', datetime.date(1978, 2, 6), 'F', '111 Green Pl, Elgin,IL', '600      ', Decimal('90000.00'), '30001    ', '2        '),\n ('E1007    ', 'Mary', 'Thomas', '123412   ', datetime.date(1975, 5, 5), 'F', '100 Rose Pl, Gary,IL', '650      ', Decimal('65000.00'), '30003    ', '7        '),\n ('E1008    ', 'Bharath', 'Gupta', '123413   ', datetime.date(1985, 5, 6), 'M', '145 Berry Ln, Naperville,IL', '660      ', Decimal('65000.00'), '30003    ', '7        '),\n ('E1009    ', 'Andrea', 'Jones', '123414   ', datetime.date(1990, 7, 9), 'F', '120 Fall Creek, Gary,IL', '234      ', Decimal('70000.00'), '30003    ', '7        '),\n ('E1010    ', 'Ann', 'Jacob', '123415   ', datetime.date(1982, 3, 30), 'F', '111 Britany Springs,Elgin,IL', '220      ', Decimal('70000.00'), '30004    ', '5        ')]",
                        "text/html": "<table>\n    <tr>\n        <th>emp_id</th>\n        <th>f_name</th>\n        <th>l_name</th>\n        <th>ssn</th>\n        <th>b_date</th>\n        <th>sex</th>\n        <th>address</th>\n        <th>job_id</th>\n        <th>salary</th>\n        <th>manager_id</th>\n        <th>dep_id</th>\n    </tr>\n    <tr>\n        <td>E1001    </td>\n        <td>John</td>\n        <td>Thomas</td>\n        <td>123456   </td>\n        <td>1976-01-09</td>\n        <td>M</td>\n        <td>5631 Rice, OakPark,IL</td>\n        <td>100      </td>\n        <td>100000.00</td>\n        <td>30001    </td>\n        <td>2        </td>\n    </tr>\n    <tr>\n        <td>E1002    </td>\n        <td>Alice</td>\n        <td>James</td>\n        <td>123457   </td>\n        <td>1972-07-31</td>\n        <td>F</td>\n        <td>980 Berry ln, Elgin,IL</td>\n        <td>200      </td>\n        <td>80000.00</td>\n        <td>30002    </td>\n        <td>5        </td>\n    </tr>\n    <tr>\n        <td>E1003    </td>\n        <td>Steve</td>\n        <td>Wells</td>\n        <td>123458   </td>\n        <td>1980-08-10</td>\n        <td>M</td>\n        <td>291 Springs, Gary,IL</td>\n        <td>300      </td>\n        <td>50000.00</td>\n        <td>30002    </td>\n        <td>5        </td>\n    </tr>\n    <tr>\n        <td>E1004    </td>\n        <td>Santosh</td>\n        <td>Kumar</td>\n        <td>123459   </td>\n        <td>1985-07-20</td>\n        <td>M</td>\n        <td>511 Aurora Av, Aurora,IL</td>\n        <td>400      </td>\n        <td>60000.00</td>\n        <td>30004    </td>\n        <td>5        </td>\n    </tr>\n    <tr>\n        <td>E1005    </td>\n        <td>Ahmed</td>\n        <td>Hussain</td>\n        <td>123410   </td>\n        <td>1981-01-04</td>\n        <td>M</td>\n        <td>216 Oak Tree, Geneva,IL</td>\n        <td>500      </td>\n        <td>70000.00</td>\n        <td>30001    </td>\n        <td>2        </td>\n    </tr>\n    <tr>\n        <td>E1006    </td>\n        <td>Nancy</td>\n        <td>Allen</td>\n        <td>123411   </td>\n        <td>1978-02-06</td>\n        <td>F</td>\n        <td>111 Green Pl, Elgin,IL</td>\n        <td>600      </td>\n        <td>90000.00</td>\n        <td>30001    </td>\n        <td>2        </td>\n    </tr>\n    <tr>\n        <td>E1007    </td>\n        <td>Mary</td>\n        <td>Thomas</td>\n        <td>123412   </td>\n        <td>1975-05-05</td>\n        <td>F</td>\n        <td>100 Rose Pl, Gary,IL</td>\n        <td>650      </td>\n        <td>65000.00</td>\n        <td>30003    </td>\n        <td>7        </td>\n    </tr>\n    <tr>\n        <td>E1008    </td>\n        <td>Bharath</td>\n        <td>Gupta</td>\n        <td>123413   </td>\n        <td>1985-05-06</td>\n        <td>M</td>\n        <td>145 Berry Ln, Naperville,IL</td>\n        <td>660      </td>\n        <td>65000.00</td>\n        <td>30003    </td>\n        <td>7        </td>\n    </tr>\n    <tr>\n        <td>E1009    </td>\n        <td>Andrea</td>\n        <td>Jones</td>\n        <td>123414   </td>\n        <td>1990-07-09</td>\n        <td>F</td>\n        <td>120 Fall Creek, Gary,IL</td>\n        <td>234      </td>\n        <td>70000.00</td>\n        <td>30003    </td>\n        <td>7        </td>\n    </tr>\n    <tr>\n        <td>E1010    </td>\n        <td>Ann</td>\n        <td>Jacob</td>\n        <td>123415   </td>\n        <td>1982-03-30</td>\n        <td>F</td>\n        <td>111 Britany Springs,Elgin,IL</td>\n        <td>220      </td>\n        <td>70000.00</td>\n        <td>30004    </td>\n        <td>5        </td>\n    </tr>\n</table>"
                    },
                    "metadata": {}
                }
            ]
        },
        {
            "metadata": {},
            "cell_type": "code",
            "source": "departments",
            "execution_count": 14,
            "outputs": [
                {
                    "output_type": "execute_result",
                    "execution_count": 14,
                    "data": {
                        "text/plain": "[('2        ', 'Architect Group', '30001    ', 'L0001    '),\n ('5        ', 'Software Group', '30002    ', 'L0002    '),\n ('7        ', 'Design Team', '30003    ', 'L0003    ')]",
                        "text/html": "<table>\n    <tr>\n        <th>dept_id_dep</th>\n        <th>dep_name</th>\n        <th>manager_id</th>\n        <th>loc_id</th>\n    </tr>\n    <tr>\n        <td>2        </td>\n        <td>Architect Group</td>\n        <td>30001    </td>\n        <td>L0001    </td>\n    </tr>\n    <tr>\n        <td>5        </td>\n        <td>Software Group</td>\n        <td>30002    </td>\n        <td>L0002    </td>\n    </tr>\n    <tr>\n        <td>7        </td>\n        <td>Design Team</td>\n        <td>30003    </td>\n        <td>L0003    </td>\n    </tr>\n</table>"
                    },
                    "metadata": {}
                }
            ]
        },
        {
            "metadata": {},
            "cell_type": "code",
            "source": "jobs",
            "execution_count": 15,
            "outputs": [
                {
                    "output_type": "execute_result",
                    "execution_count": 15,
                    "data": {
                        "text/plain": "[('100      ', 'Sr. Architect', Decimal('60000.00'), Decimal('100000.00')),\n ('200      ', 'Sr. Software De', Decimal('60000.00'), Decimal('80000.00')),\n ('220      ', 'Sr. Designer', Decimal('70000.00'), Decimal('90000.00')),\n ('234      ', 'Sr. Designer', Decimal('70000.00'), Decimal('90000.00')),\n ('300      ', 'Jr.Software Dev', Decimal('40000.00'), Decimal('60000.00')),\n ('400      ', 'Jr.Software Dev', Decimal('40000.00'), Decimal('60000.00')),\n ('500      ', 'Jr. Architect', Decimal('50000.00'), Decimal('70000.00')),\n ('600      ', 'Lead Architect', Decimal('70000.00'), Decimal('100000.00')),\n ('650      ', 'Jr. Designer', Decimal('60000.00'), Decimal('70000.00')),\n ('660      ', 'Jr. Designer', Decimal('60000.00'), Decimal('70000.00'))]",
                        "text/html": "<table>\n    <tr>\n        <th>job_ident</th>\n        <th>job_title</th>\n        <th>min_salary</th>\n        <th>max_salary</th>\n    </tr>\n    <tr>\n        <td>100      </td>\n        <td>Sr. Architect</td>\n        <td>60000.00</td>\n        <td>100000.00</td>\n    </tr>\n    <tr>\n        <td>200      </td>\n        <td>Sr. Software De</td>\n        <td>60000.00</td>\n        <td>80000.00</td>\n    </tr>\n    <tr>\n        <td>220      </td>\n        <td>Sr. Designer</td>\n        <td>70000.00</td>\n        <td>90000.00</td>\n    </tr>\n    <tr>\n        <td>234      </td>\n        <td>Sr. Designer</td>\n        <td>70000.00</td>\n        <td>90000.00</td>\n    </tr>\n    <tr>\n        <td>300      </td>\n        <td>Jr.Software Dev</td>\n        <td>40000.00</td>\n        <td>60000.00</td>\n    </tr>\n    <tr>\n        <td>400      </td>\n        <td>Jr.Software Dev</td>\n        <td>40000.00</td>\n        <td>60000.00</td>\n    </tr>\n    <tr>\n        <td>500      </td>\n        <td>Jr. Architect</td>\n        <td>50000.00</td>\n        <td>70000.00</td>\n    </tr>\n    <tr>\n        <td>600      </td>\n        <td>Lead Architect</td>\n        <td>70000.00</td>\n        <td>100000.00</td>\n    </tr>\n    <tr>\n        <td>650      </td>\n        <td>Jr. Designer</td>\n        <td>60000.00</td>\n        <td>70000.00</td>\n    </tr>\n    <tr>\n        <td>660      </td>\n        <td>Jr. Designer</td>\n        <td>60000.00</td>\n        <td>70000.00</td>\n    </tr>\n</table>"
                    },
                    "metadata": {}
                }
            ]
        },
        {
            "metadata": {},
            "cell_type": "code",
            "source": "job_history",
            "execution_count": 16,
            "outputs": [
                {
                    "output_type": "execute_result",
                    "execution_count": 16,
                    "data": {
                        "text/plain": "[('E1001    ', datetime.date(2000, 8, 1), '100      ', '2        '),\n ('E1002    ', datetime.date(2001, 8, 1), '200      ', '5        '),\n ('E1003    ', datetime.date(2001, 8, 16), '300      ', '5        '),\n ('E1004    ', datetime.date(2000, 8, 16), '400      ', '5        '),\n ('E1005    ', datetime.date(2000, 5, 30), '500      ', '2        '),\n ('E1006    ', datetime.date(2001, 8, 16), '600      ', '2        '),\n ('E1007    ', datetime.date(2002, 5, 30), '650      ', '7        '),\n ('E1008    ', datetime.date(2010, 5, 6), '660      ', '7        '),\n ('E1009    ', datetime.date(2016, 8, 16), '234      ', '7        '),\n ('E1010    ', datetime.date(2016, 8, 16), '220      ', '5        ')]",
                        "text/html": "<table>\n    <tr>\n        <th>empl_id</th>\n        <th>start_date</th>\n        <th>jobs_id</th>\n        <th>dept_id</th>\n    </tr>\n    <tr>\n        <td>E1001    </td>\n        <td>2000-08-01</td>\n        <td>100      </td>\n        <td>2        </td>\n    </tr>\n    <tr>\n        <td>E1002    </td>\n        <td>2001-08-01</td>\n        <td>200      </td>\n        <td>5        </td>\n    </tr>\n    <tr>\n        <td>E1003    </td>\n        <td>2001-08-16</td>\n        <td>300      </td>\n        <td>5        </td>\n    </tr>\n    <tr>\n        <td>E1004    </td>\n        <td>2000-08-16</td>\n        <td>400      </td>\n        <td>5        </td>\n    </tr>\n    <tr>\n        <td>E1005    </td>\n        <td>2000-05-30</td>\n        <td>500      </td>\n        <td>2        </td>\n    </tr>\n    <tr>\n        <td>E1006    </td>\n        <td>2001-08-16</td>\n        <td>600      </td>\n        <td>2        </td>\n    </tr>\n    <tr>\n        <td>E1007    </td>\n        <td>2002-05-30</td>\n        <td>650      </td>\n        <td>7        </td>\n    </tr>\n    <tr>\n        <td>E1008    </td>\n        <td>2010-05-06</td>\n        <td>660      </td>\n        <td>7        </td>\n    </tr>\n    <tr>\n        <td>E1009    </td>\n        <td>2016-08-16</td>\n        <td>234      </td>\n        <td>7        </td>\n    </tr>\n    <tr>\n        <td>E1010    </td>\n        <td>2016-08-16</td>\n        <td>220      </td>\n        <td>5        </td>\n    </tr>\n</table>"
                    },
                    "metadata": {}
                }
            ]
        },
        {
            "metadata": {},
            "cell_type": "markdown",
            "source": "### How many employees are there in each department? "
        },
        {
            "metadata": {},
            "cell_type": "code",
            "source": "%%sql\n\nSELECT COUNT(E.emp_id) AS \"Number of employees\", D.dep_name as \"Department name\", D.dept_id_dep as \"Department ID\"\nFROM employees E\nJOIN Departments D\nON E.dep_id = D.dept_id_Dep\nGROUP BY D.dep_name, D.dept_id_dep",
            "execution_count": 11,
            "outputs": [
                {
                    "output_type": "stream",
                    "text": " * ibm_db_sa://rcz59621:***@dashdb-txn-sbox-yp-dal09-14.services.dal.bluemix.net:50000/BLUDB\nDone.\n",
                    "name": "stdout"
                },
                {
                    "output_type": "execute_result",
                    "execution_count": 11,
                    "data": {
                        "text/plain": "[(Decimal('3'), 'Architect Group', '2        '),\n (Decimal('4'), 'Software Group', '5        '),\n (Decimal('3'), 'Design Team', '7        ')]",
                        "text/html": "<table>\n    <tr>\n        <th>Number of employees</th>\n        <th>Department name</th>\n        <th>Department ID</th>\n    </tr>\n    <tr>\n        <td>3</td>\n        <td>Architect Group</td>\n        <td>2        </td>\n    </tr>\n    <tr>\n        <td>4</td>\n        <td>Software Group</td>\n        <td>5        </td>\n    </tr>\n    <tr>\n        <td>3</td>\n        <td>Design Team</td>\n        <td>7        </td>\n    </tr>\n</table>"
                    },
                    "metadata": {}
                }
            ]
        },
        {
            "metadata": {},
            "cell_type": "markdown",
            "source": "### What are last names, salary, job title and manager ids for the top 5 highest paid employees?"
        },
        {
            "metadata": {},
            "cell_type": "code",
            "source": "%%sql\n\nSELECT E.f_name, E.salary, J.job_title, E.manager_id\nFROM employees E\nJOIN jobs J\nON E.job_id = J.job_ident\nORDER BY E.salary desc\nLIMIT 5",
            "execution_count": 18,
            "outputs": [
                {
                    "output_type": "stream",
                    "text": " * ibm_db_sa://rcz59621:***@dashdb-txn-sbox-yp-dal09-14.services.dal.bluemix.net:50000/BLUDB\nDone.\n",
                    "name": "stdout"
                },
                {
                    "output_type": "execute_result",
                    "execution_count": 18,
                    "data": {
                        "text/plain": "[('John', Decimal('100000.00'), 'Sr. Architect', '30001    '),\n ('Nancy', Decimal('90000.00'), 'Lead Architect', '30001    '),\n ('Alice', Decimal('80000.00'), 'Sr. Software De', '30002    '),\n ('Ahmed', Decimal('70000.00'), 'Jr. Architect', '30001    '),\n ('Andrea', Decimal('70000.00'), 'Sr. Designer', '30003    ')]",
                        "text/html": "<table>\n    <tr>\n        <th>f_name</th>\n        <th>salary</th>\n        <th>job_title</th>\n        <th>manager_id</th>\n    </tr>\n    <tr>\n        <td>John</td>\n        <td>100000.00</td>\n        <td>Sr. Architect</td>\n        <td>30001    </td>\n    </tr>\n    <tr>\n        <td>Nancy</td>\n        <td>90000.00</td>\n        <td>Lead Architect</td>\n        <td>30001    </td>\n    </tr>\n    <tr>\n        <td>Alice</td>\n        <td>80000.00</td>\n        <td>Sr. Software De</td>\n        <td>30002    </td>\n    </tr>\n    <tr>\n        <td>Ahmed</td>\n        <td>70000.00</td>\n        <td>Jr. Architect</td>\n        <td>30001    </td>\n    </tr>\n    <tr>\n        <td>Andrea</td>\n        <td>70000.00</td>\n        <td>Sr. Designer</td>\n        <td>30003    </td>\n    </tr>\n</table>"
                    },
                    "metadata": {}
                }
            ]
        },
        {
            "metadata": {},
            "cell_type": "markdown",
            "source": "### How many employees joined the company between 2000 and 2005?"
        },
        {
            "metadata": {},
            "cell_type": "code",
            "source": "%%sql\n\nSELECT COUNT(E.emp_id) AS \" Number of employees\", year(JH.start_date) AS \"Start year\"\nFROM \nemployees E\nJOIN job_history JH\nON E.emp_id = JH.empl_id\nWHERE year(JH.start_date) BETWEEN 2000 AND 2005\nGROUP BY year(JH.start_date)",
            "execution_count": 19,
            "outputs": [
                {
                    "output_type": "stream",
                    "text": " * ibm_db_sa://rcz59621:***@dashdb-txn-sbox-yp-dal09-14.services.dal.bluemix.net:50000/BLUDB\nDone.\n",
                    "name": "stdout"
                },
                {
                    "output_type": "execute_result",
                    "execution_count": 19,
                    "data": {
                        "text/plain": "[(Decimal('3'), 2000), (Decimal('3'), 2001), (Decimal('1'), 2002)]",
                        "text/html": "<table>\n    <tr>\n        <th> Number of employees</th>\n        <th>Start year</th>\n    </tr>\n    <tr>\n        <td>3</td>\n        <td>2000</td>\n    </tr>\n    <tr>\n        <td>3</td>\n        <td>2001</td>\n    </tr>\n    <tr>\n        <td>1</td>\n        <td>2002</td>\n    </tr>\n</table>"
                    },
                    "metadata": {}
                }
            ]
        }
    ],
    "metadata": {
        "kernelspec": {
            "name": "python3",
            "display_name": "Python 3.6",
            "language": "python"
        },
        "language_info": {
            "name": "python",
            "version": "3.6.9",
            "mimetype": "text/x-python",
            "codemirror_mode": {
                "name": "ipython",
                "version": 3
            },
            "pygments_lexer": "ipython3",
            "nbconvert_exporter": "python",
            "file_extension": ".py"
        }
    },
    "nbformat": 4,
    "nbformat_minor": 4
}